{
 "cells": [
  {
   "cell_type": "code",
   "execution_count": 1,
   "metadata": {},
   "outputs": [],
   "source": [
    "import os\n",
    "import sys\n",
    "import time\n",
    "import json\n",
    "import numpy as np\n",
    "import pandas as pd\n",
    "import networkx as nx\n",
    "from glob import glob\n",
    "from tqdm import tqdm\n",
    "\n",
    "import geopandas as gpd\n",
    "import imageio.v2 as imageio\n",
    "import matplotlib.pyplot as plt\n",
    "from scipy.optimize import least_squares, fsolve\n",
    "from scipy.sparse import csr_array,csc_array,save_npz,load_npz\n",
    "\n",
    "sys.path.append(\"/mnt/beegfs/lcesarini/ge-distance/src\")\n",
    "\n",
    "os.chdir(f\"/mnt/beegfs/lcesarini/ge-distance/\")\n",
    "from graph_ensembles.sparse import MultiFitnessModel as MFM"
   ]
  },
  {
   "cell_type": "code",
   "execution_count": 6,
   "metadata": {},
   "outputs": [
    {
     "data": {
      "text/plain": [
       "array([[ 651838,      13,      87],\n",
       "       [3327329,      25,      27],\n",
       "       [3982254,      27,      20],\n",
       "       [1514525,      31,      73],\n",
       "       [1236380,      27,      62],\n",
       "       [4688263,      13,      91],\n",
       "       [3475082,      19,      27],\n",
       "       [2012312,       9,      59],\n",
       "       [4130131,      13,      11],\n",
       "       [4661482,      35,      13],\n",
       "       [1452188,      17,      72],\n",
       "       [1667330,       8,      69],\n",
       "       [ 438035,       9,      79],\n",
       "       [3509011,      11,      26],\n",
       "       [ 978909,      30,      76],\n",
       "       [1322294,       9,      76],\n",
       "       [3364501,      27,      27],\n",
       "       [2483615,      27,      55],\n",
       "       [2750137,      19,      47],\n",
       "       [1743493,      11,      69],\n",
       "       [3165271,      30,      30],\n",
       "       [4271574,      13,       7],\n",
       "       [3104103,      13,      47],\n",
       "       [3628841,      19,      32],\n",
       "       [4161140,      38,      11],\n",
       "       [1518781,      23,      73],\n",
       "       [1385636,       4,      62],\n",
       "       [2003641,      13,      60],\n",
       "       [ 293362,      13,      78],\n",
       "       [ 213656,      11,      88],\n",
       "       [1315140,      27,      72],\n",
       "       [2449494,      23,      55],\n",
       "       [4189917,      13,      11],\n",
       "       [ 131817,      13,      77],\n",
       "       [3275541,       9,      27],\n",
       "       [3326949,      13,      27],\n",
       "       [ 775271,      15,      86],\n",
       "       [2525944,      30,      56],\n",
       "       [3022627,      13,      45],\n",
       "       [3822149,      19,      20],\n",
       "       [3263961,      27,      27],\n",
       "       [ 208689,      30,      90],\n",
       "       [3831819,      27,      19],\n",
       "       [4015281,       9,      13],\n",
       "       [ 368324,      35,      40],\n",
       "       [4079127,      27,      12],\n",
       "       [1624733,      35,      39],\n",
       "       [1064470,      27,      76],\n",
       "       [ 507603,      11,      87],\n",
       "       [4043639,      13,      13],\n",
       "       [3550588,      13,      27],\n",
       "       [ 636084,       2,      86],\n",
       "       [4121126,      27,      11],\n",
       "       [  88106,      35,      77],\n",
       "       [4133321,       4,      11],\n",
       "       [ 163915,       0,      77],\n",
       "       [2392820,      19,      55],\n",
       "       [1111060,       9,      76],\n",
       "       [1707320,      27,      69],\n",
       "       [2087647,      13,      64],\n",
       "       [3348057,      35,      27],\n",
       "       [3728369,      13,      20],\n",
       "       [2996794,      27,      45],\n",
       "       [3148408,      31,      30],\n",
       "       [3140265,      27,      30],\n",
       "       [2420435,      31,      52],\n",
       "       [ 708906,      13,      86],\n",
       "       [4689517,      37,      82],\n",
       "       [4037402,      11,      13],\n",
       "       [1989394,       2,      67],\n",
       "       [4140086,      38,      11],\n",
       "       [3566127,      13,      27],\n",
       "       [ 517664,       9,      91],\n",
       "       [1735315,      30,      69],\n",
       "       [1276061,      13,      76],\n",
       "       [2841079,       4,      45],\n",
       "       [1302643,      19,      75],\n",
       "       [2472812,      27,      52],\n",
       "       [ 203077,      27,      90],\n",
       "       [3319686,      13,      27],\n",
       "       [4608188,      18,      51],\n",
       "       [1472478,      13,      72],\n",
       "       [2095284,       0,      64],\n",
       "       [1301636,      35,      75],\n",
       "       [2453430,      13,      55],\n",
       "       [1800316,      35,      39],\n",
       "       [3751819,      27,      34],\n",
       "       [1529007,      15,      73],\n",
       "       [3505127,      26,      26],\n",
       "       [4730896,      13,      82],\n",
       "       [4406193,      13,       3],\n",
       "       [2068252,      13,      64],\n",
       "       [1039448,      39,      76],\n",
       "       [4456187,      27,       3],\n",
       "       [3716265,      38,      34],\n",
       "       [2838407,       4,      45],\n",
       "       [ 500568,      23,      91],\n",
       "       [2924882,      30,      45],\n",
       "       [ 728705,      27,      85],\n",
       "       [2719138,      13,      47]], dtype=int32)"
      ]
     },
     "execution_count": 6,
     "metadata": {},
     "output_type": "execute_result"
    }
   ],
   "source": [
    "PLOT=True\n",
    "NODES=100\n",
    "COEFF_EDGES=4\n",
    "SLOW='sparse'\n",
    "JOB_NAME='pippo'\n",
    "n_grid=95\n",
    "\n",
    "arr_ul=load_npz(f'src/distance/out/arr_input_ul_{n_grid}.npz')\n",
    "\n",
    "sample_nodes=np.random.randint(0,arr_ul.shape[0],NODES)\n",
    "arr_ul=arr_ul[sample_nodes]\n",
    "\n",
    "\n",
    "N_VERT=arr_ul.shape[0]\n",
    "N_EDGE=arr_ul.shape[0] * COEFF_EDGES\n",
    "N_SECT= np.unique(arr_ul.toarray()[:,1]).shape[0]\n",
    "PROP_IN=np.random.randint(1,6,N_VERT * N_SECT).reshape(-1,N_SECT)\n",
    "PROP_OUT=np.random.randint(0,5,N_VERT * N_SECT).reshape(-1,N_SECT)\n",
    "\n",
    "arr_ul.toarray()"
   ]
  },
  {
   "cell_type": "code",
   "execution_count": 5,
   "metadata": {},
   "outputs": [
    {
     "data": {
      "text/plain": [
       "array([[4741993,      39,     909]], dtype=int32)"
      ]
     },
     "execution_count": 5,
     "metadata": {},
     "output_type": "execute_result"
    }
   ],
   "source": [
    "arr_ul.max(axis=0).toarray()"
   ]
  },
  {
   "cell_type": "code",
   "execution_count": 3,
   "metadata": {},
   "outputs": [
    {
     "name": "stdout",
     "output_type": "stream",
     "text": [
      "0\n"
     ]
    }
   ],
   "source": [
    "gmfm=MFM(\n",
    "            num_vertices=N_VERT,\n",
    "            num_edges=N_EDGE,\n",
    "            num_labels=N_SECT,\n",
    "            prop_out=PROP_OUT,\n",
    "            prop_in=PROP_IN,\n",
    "            param=1,\n",
    "            id_grid=arr_ul[:,2].toarray(),\n",
    "            n_ul=95\n",
    "            # param=np.random.randint(1,10,N_SECT),\n",
    "            # num_edges_label=np.random.randint(2,5,N_SECT),\n",
    "            # selfloops=1,\n",
    "            # per_label=1,\n",
    "    )"
   ]
  },
  {
   "cell_type": "code",
   "execution_count": 4,
   "metadata": {},
   "outputs": [
    {
     "data": {
      "text/plain": [
       "95"
      ]
     },
     "execution_count": 4,
     "metadata": {},
     "output_type": "execute_result"
    }
   ],
   "source": [
    "gmfm.n_ul"
   ]
  },
  {
   "cell_type": "code",
   "execution_count": 6,
   "metadata": {},
   "outputs": [
    {
     "ename": "NameError",
     "evalue": "name 'gmfm' is not defined",
     "output_type": "error",
     "traceback": [
      "\u001b[0;31m---------------------------------------------------------------------------\u001b[0m",
      "\u001b[0;31mNameError\u001b[0m                                 Traceback (most recent call last)",
      "Cell \u001b[0;32mIn[6], line 7\u001b[0m\n\u001b[1;32m      4\u001b[0m \u001b[38;5;28;01mif\u001b[39;00m test_i\u001b[38;5;241m==\u001b[39mtest_j:\n\u001b[1;32m      5\u001b[0m     test_j\u001b[38;5;241m+\u001b[39m\u001b[38;5;241m=\u001b[39m\u001b[38;5;241m1\u001b[39m\n\u001b[0;32m----> 7\u001b[0m \u001b[38;5;28mprint\u001b[39m(\u001b[38;5;124mf\u001b[39m\u001b[38;5;124m\"\u001b[39m\u001b[38;5;124mDistance \u001b[39m\u001b[38;5;132;01m{\u001b[39;00mtest_i\u001b[38;5;132;01m}\u001b[39;00m\u001b[38;5;124m,\u001b[39m\u001b[38;5;132;01m{\u001b[39;00mtest_j\u001b[38;5;132;01m}\u001b[39;00m\u001b[38;5;124m: \u001b[39m\u001b[38;5;132;01m{\u001b[39;00m\u001b[43mgmfm\u001b[49m\u001b[38;5;241m.\u001b[39mprop_dyad(test_i,test_j,gmfm\u001b[38;5;241m.\u001b[39mid_grid,gmfm\u001b[38;5;241m.\u001b[39mdist_mat)\u001b[38;5;132;01m:\u001b[39;00m\u001b[38;5;124m.2f\u001b[39m\u001b[38;5;132;01m}\u001b[39;00m\u001b[38;5;124m\"\u001b[39m)\n\u001b[1;32m      8\u001b[0m \u001b[38;5;28mprint\u001b[39m(\u001b[38;5;124m\"\u001b[39m\u001b[38;5;124mpost computation distance\u001b[39m\u001b[38;5;124m\"\u001b[39m)\n\u001b[1;32m      9\u001b[0m \u001b[38;5;66;03m# print(gmfm.prop_dyad(1,2,dist_mat.toarray())))\u001b[39;00m\n",
      "\u001b[0;31mNameError\u001b[0m: name 'gmfm' is not defined"
     ]
    }
   ],
   "source": [
    "test_i=np.random.randint(0,N_VERT)\n",
    "test_j=np.random.randint(0,N_VERT)\n",
    "\n",
    "if test_i==test_j:\n",
    "    test_j+=1\n",
    "\n",
    "print(f\"Distance {test_i},{test_j}: {gmfm.prop_dyad(test_i,test_j,gmfm.id_grid,gmfm.dist_mat):.2f}\")\n",
    "print(\"post computation distance\")\n",
    "# print(gmfm.prop_dyad(1,2,dist_mat.toarray())))\n",
    "gmfm.fit(verbose=False)\n",
    "\n",
    "# dir(gmfm.solver_output)\n",
    "\n",
    "# print(gmfm.solver_output.x)\n",
    "# gmfm.solver_output.target\n",
    "# gmfm.solver_output.f_seq"
   ]
  },
  {
   "cell_type": "code",
   "execution_count": 16,
   "metadata": {},
   "outputs": [
    {
     "name": "stdout",
     "output_type": "stream",
     "text": [
      "\n",
      "---------------------\n",
      "\n",
      "\n",
      "---------------------\n",
      "\n"
     ]
    },
    {
     "ename": "TypeError",
     "evalue": "not enough arguments: expected 8, got 0",
     "output_type": "error",
     "traceback": [
      "\u001b[0;31m---------------------------------------------------------------------------\u001b[0m",
      "\u001b[0;31mTypeError\u001b[0m                                 Traceback (most recent call last)",
      "Cell \u001b[0;32mIn[16], line 3\u001b[0m\n\u001b[1;32m      1\u001b[0m \u001b[38;5;28mprint\u001b[39m(\u001b[38;5;124mf\u001b[39m\u001b[38;5;124m\"\u001b[39m\u001b[38;5;130;01m\\n\u001b[39;00m\u001b[38;5;124m---------------------\u001b[39m\u001b[38;5;130;01m\\n\u001b[39;00m\u001b[38;5;124m\"\u001b[39m)\n\u001b[1;32m      2\u001b[0m \u001b[38;5;28mprint\u001b[39m(\u001b[38;5;124mf\u001b[39m\u001b[38;5;124m\"\u001b[39m\u001b[38;5;130;01m\\n\u001b[39;00m\u001b[38;5;124m---------------------\u001b[39m\u001b[38;5;130;01m\\n\u001b[39;00m\u001b[38;5;124m\"\u001b[39m)\n\u001b[0;32m----> 3\u001b[0m \u001b[38;5;28mprint\u001b[39m(\u001b[38;5;124mf\u001b[39m\u001b[38;5;124m\"\u001b[39m\u001b[38;5;124mexp_av_nn_prop:\u001b[39m\u001b[38;5;132;01m{\u001b[39;00m\u001b[43mgmfm\u001b[49m\u001b[38;5;241;43m.\u001b[39;49m\u001b[43mexp_av_nn_prop\u001b[49m\u001b[43m(\u001b[49m\u001b[43m)\u001b[49m\u001b[38;5;132;01m}\u001b[39;00m\u001b[38;5;124m\"\u001b[39m)\n\u001b[1;32m      4\u001b[0m \u001b[38;5;66;03m# print(f\"expected_out_degree:{gmfm.expected_out_degree()}\")\u001b[39;00m\n\u001b[1;32m      5\u001b[0m \u001b[38;5;28mprint\u001b[39m(\u001b[38;5;124mf\u001b[39m\u001b[38;5;124m\"\u001b[39m\u001b[38;5;130;01m\\n\u001b[39;00m\u001b[38;5;124m---------------------\u001b[39m\u001b[38;5;130;01m\\n\u001b[39;00m\u001b[38;5;124m\"\u001b[39m)\n",
      "\u001b[0;31mTypeError\u001b[0m: not enough arguments: expected 8, got 0"
     ]
    }
   ],
   "source": [
    "print(f\"\\n---------------------\\n\")\n",
    "print(f\"\\n---------------------\\n\")\n",
    "print(f\"exp_av_nn_prop:{gmfm.exp_av_nn_prop()}\")\n",
    "# print(f\"expected_out_degree:{gmfm.expected_out_degree()}\")\n",
    "print(f\"\\n---------------------\\n\")\n",
    "# print(f\"expected_out_degree_by_label:{gmfm.expected_out_degree_by_label()}\")\n",
    "print(f\"expected_in_degree:{gmfm.expected_in_degree()}\")\n",
    "# print(f\"expected_in_degree_by_label:{gmfm.expected_in_degree_by_label()}\")\n",
    "print(f\"expected_num_edges:{gmfm.expected_num_edges()}\")\n",
    "print(f\"\\n---------------------\\n\")\n",
    "# print(f\"expected_num_edges_label:{gmfm.expected_num_edges_label()}\")\n",
    "\n",
    "# for ele in dir(gmfm):\n",
    "#     if \"__\" not in ele:\n",
    "#         print(ele) \n",
    "\n",
    "x=gmfm.sample()\n",
    "sampled_nx=x.to_networkx()\n"
   ]
  },
  {
   "cell_type": "code",
   "execution_count": 19,
   "metadata": {},
   "outputs": [
    {
     "name": "stdout",
     "output_type": "stream",
     "text": [
      "The file does not exist\n",
      "GIF created successfully.\n"
     ]
    }
   ],
   "source": [
    "import matplotlib.pyplot as plt\n",
    "from mpl_toolkits.basemap import Basemap as Basemap\n",
    "gif_filename = f'src/distance/tmp/graph_sampled_{N_VERT}_{N_EDGE}_{JOB_NAME}.gif'\n",
    "\n",
    "with open(f'src/distance/out/UL_italy_poly_assigned_{n_grid}.json', 'r', encoding='utf-8') as f:\n",
    "    r=json.load(f) \n",
    "\n",
    "gdf=json.loads(r)\n",
    "lon=[]\n",
    "lat=[]\n",
    "for f in (gdf['features']):\n",
    "    lon.append(f['properties']['lng'])\n",
    "    lat.append(f['properties']['lat'])\n",
    "\n",
    "# lon=lon[:NODES]\n",
    "# lat=lat[:NODES]\n",
    "lon=np.array(lon)[sample_nodes]\n",
    "lat=np.array(lat)[sample_nodes]\n",
    "\n",
    "for f in glob(f\"src/distance/tmp/*_{N_VERT}_{N_EDGE}_{JOB_NAME}.png\"):\n",
    "    os.remove(f)\n",
    "\n",
    "if os.path.exists(gif_filename):\n",
    "    os.remove(gif_filename)\n",
    "else:\n",
    "    print(\"The file does not exist\")\n",
    "\n",
    "# dict_pos={x:[np.random.uniform(10,15),np.random.uniform(40,45)] for i,x in enumerate(sampled_nx.nodes)}\n",
    "for _ in range(10):\n",
    "\n",
    "    SAMPLED_NX=gmfm.sample().to_networkx()\n",
    "    fig,ax=plt.subplots(1,1,figsize=(16,16))\n",
    "    m = Basemap(\n",
    "            projection='merc',\n",
    "            llcrnrlon=5,#np.min(lon)*0.995,\n",
    "            llcrnrlat=35,#np.min(lat)*0.9995,\n",
    "            urcrnrlon=20,#np.max(lon)*1.005,\n",
    "            urcrnrlat=47.2,#np.max(lat)*1.0005,\n",
    "            lat_ts=0,\n",
    "            resolution='l',\n",
    "            ax=ax,\n",
    "            suppress_ticks=False)\n",
    "    # m.etopo()\n",
    "    m.drawcountries(linewidth = 3);\n",
    "    m.drawstates(linewidth = 0.2)\n",
    "    m.drawcoastlines(linewidth=3)\n",
    "    m.fillcontinents(color='coral',lake_color='aqua')\n",
    "    m.drawmapboundary(fill_color='aqua') \n",
    "    dict_pos={x:list(m(lon[i],lat[i])) for i,x in enumerate(SAMPLED_NX.nodes)}\n",
    "\n",
    "    # nx.draw(SAMPLED_NX,\n",
    "    #         pos=dict_pos,\n",
    "    #         alpha=0.5,\n",
    "    #         edge_color='green',\n",
    "    #         node_color='red',node_size=30,\n",
    "    #         ax=ax,with_labels=True);\n",
    "    \n",
    "    nx.draw_networkx_nodes(G = SAMPLED_NX, pos = dict_pos, nodelist = SAMPLED_NX.nodes(), \n",
    "                    node_color = 'r', alpha = 0.8, node_size = 100, label=True)\n",
    "    nx.draw_networkx_edges(G = SAMPLED_NX, pos = dict_pos, edge_color='g',\n",
    "                            alpha=0.2, arrows = True)\n",
    "    plt.tight_layout()\n",
    "    plt.savefig(f\"src/distance/tmp/sample_{_}_{N_VERT}_{N_EDGE}_{JOB_NAME}.png\", dpi = 300)\n",
    "    plt.close()\n",
    "\n",
    "\n",
    "#CREATE the GIF\n",
    "# Directory containing PNG images\n",
    "png_dir = 'src/distance/tmp/'\n",
    "list_png=glob(f\"{png_dir}/sample*_{N_VERT}_{N_EDGE}_{JOB_NAME}.png\")\n",
    "# List PNG files in the directory\n",
    "list_png.sort()\n",
    "# Create GIF filename\n",
    "\n",
    "frames=[]\n",
    "for img in list_png[:10]:\n",
    "    frames.append(imageio.imread(img))\n",
    "imageio.mimsave(gif_filename, frames, 'GIF', duration=250)\n",
    "\n",
    "print(\"GIF created successfully.\")"
   ]
  },
  {
   "cell_type": "code",
   "execution_count": null,
   "metadata": {},
   "outputs": [],
   "source": []
  },
  {
   "cell_type": "code",
   "execution_count": null,
   "metadata": {},
   "outputs": [],
   "source": []
  }
 ],
 "metadata": {
  "kernelspec": {
   "display_name": "my_xclim_env",
   "language": "python",
   "name": "python3"
  },
  "language_info": {
   "codemirror_mode": {
    "name": "ipython",
    "version": 3
   },
   "file_extension": ".py",
   "mimetype": "text/x-python",
   "name": "python",
   "nbconvert_exporter": "python",
   "pygments_lexer": "ipython3",
   "version": "3.11.4"
  }
 },
 "nbformat": 4,
 "nbformat_minor": 2
}
